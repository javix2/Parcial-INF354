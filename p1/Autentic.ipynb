{
 "cells": [
  {
   "cell_type": "markdown",
   "metadata": {},
   "source": [
    "# Conjunto de datos de autenticación de billetes"
   ]
  },
  {
   "cell_type": "markdown",
   "metadata": {},
   "source": [
    "Conjunto de datos de autenticación de billetes"
   ]
  },
  {
   "cell_type": "code",
   "execution_count": 32,
   "metadata": {},
   "outputs": [
    {
     "data": {
      "text/html": [
       "<div>\n",
       "<style scoped>\n",
       "    .dataframe tbody tr th:only-of-type {\n",
       "        vertical-align: middle;\n",
       "    }\n",
       "\n",
       "    .dataframe tbody tr th {\n",
       "        vertical-align: top;\n",
       "    }\n",
       "\n",
       "    .dataframe thead th {\n",
       "        text-align: right;\n",
       "    }\n",
       "</style>\n",
       "<table border=\"1\" class=\"dataframe\">\n",
       "  <thead>\n",
       "    <tr style=\"text-align: right;\">\n",
       "      <th></th>\n",
       "      <th>varianzaimg</th>\n",
       "      <th>asimetriaimg</th>\n",
       "      <th>curtosisimg</th>\n",
       "      <th>entropiaimg</th>\n",
       "      <th>clase</th>\n",
       "    </tr>\n",
       "  </thead>\n",
       "  <tbody>\n",
       "    <tr>\n",
       "      <th>0</th>\n",
       "      <td>3.62160</td>\n",
       "      <td>8.6661</td>\n",
       "      <td>-2.8073</td>\n",
       "      <td>-0.44699</td>\n",
       "      <td>0</td>\n",
       "    </tr>\n",
       "    <tr>\n",
       "      <th>1</th>\n",
       "      <td>4.54590</td>\n",
       "      <td>8.1674</td>\n",
       "      <td>-2.4586</td>\n",
       "      <td>-1.46210</td>\n",
       "      <td>0</td>\n",
       "    </tr>\n",
       "    <tr>\n",
       "      <th>2</th>\n",
       "      <td>3.86600</td>\n",
       "      <td>-2.6383</td>\n",
       "      <td>1.9242</td>\n",
       "      <td>0.10645</td>\n",
       "      <td>0</td>\n",
       "    </tr>\n",
       "    <tr>\n",
       "      <th>3</th>\n",
       "      <td>3.45660</td>\n",
       "      <td>9.5228</td>\n",
       "      <td>-4.0112</td>\n",
       "      <td>-3.59440</td>\n",
       "      <td>0</td>\n",
       "    </tr>\n",
       "    <tr>\n",
       "      <th>4</th>\n",
       "      <td>0.32924</td>\n",
       "      <td>-4.4552</td>\n",
       "      <td>4.5718</td>\n",
       "      <td>-0.98880</td>\n",
       "      <td>0</td>\n",
       "    </tr>\n",
       "  </tbody>\n",
       "</table>\n",
       "</div>"
      ],
      "text/plain": [
       "   varianzaimg  asimetriaimg  curtosisimg  entropiaimg  clase\n",
       "0      3.62160        8.6661      -2.8073     -0.44699      0\n",
       "1      4.54590        8.1674      -2.4586     -1.46210      0\n",
       "2      3.86600       -2.6383       1.9242      0.10645      0\n",
       "3      3.45660        9.5228      -4.0112     -3.59440      0\n",
       "4      0.32924       -4.4552       4.5718     -0.98880      0"
      ]
     },
     "execution_count": 32,
     "metadata": {},
     "output_type": "execute_result"
    }
   ],
   "source": [
    "import pandas as pd\n",
    "df = pd.read_csv(\"autentic.csv\")\n",
    "df.head()"
   ]
  },
  {
   "cell_type": "code",
   "execution_count": 26,
   "metadata": {},
   "outputs": [
    {
     "name": "stdout",
     "output_type": "stream",
     "text": [
      "media: 0.4337352570699707\n",
      "media: 1.9223531206393603\n",
      "media: 1.3976271172667651\n",
      "media: -1.191656520043731\n",
      "media: 0.4446064139941691\n",
      "MODA:  0.5706\n",
      "MODA:  -4.4552\n",
      "MODA:  0\n",
      "DESV ESTAN:  2.8427625862785613\n",
      "DESV ESTAN:  5.869046743695517\n",
      "DESV ESTAN:  4.310030090106595\n",
      "DESV ESTAN:  2.10101313735961\n",
      "DESV ESTAN:  0.4971032701256608\n"
     ]
    }
   ],
   "source": [
    "#Media\n",
    "from statistics import mode,stdev\n",
    "print(\"media:\",sum(df[\"varianzaimg\"])/len(df[\"varianzaimg\"]))\n",
    "print(\"media:\",sum(df[\"asimetriaimg\"])/len(df[\"asimetriaimg\"]))\n",
    "print(\"media:\",sum(df[\"curtosisimg\"])/len(df[\"curtosisimg\"]))\n",
    "print(\"media:\",sum(df[\"entropiaimg\"])/len(df[\"entropiaimg\"]))\n",
    "print(\"media:\",sum(df[\"clase\"])/len(df[\"clase\"]))\n",
    "#Moda\n",
    "print(\"MODA: \",mode(df[\"varianzaimg\"])) \n",
    "print(\"MODA: \",mode(df[\"asimetriaimg\"])) \n",
    "#print(\"MODA: \",mode(df[\"curtosisimg\"])) \n",
    "#print(\"MODA: \",mode(df[\"entropiaimg\"])) \n",
    "print(\"MODA: \",mode(df[\"clase\"])) \n",
    "\n",
    "print(\"DESV ESTAN: \",stdev(df[\"varianzaimg\"]))\n",
    "print(\"DESV ESTAN: \",stdev(df[\"asimetriaimg\"]))\n",
    "print(\"DESV ESTAN: \",stdev(df[\"curtosisimg\"]))\n",
    "print(\"DESV ESTAN: \",stdev(df[\"entropiaimg\"]))\n",
    "print(\"DESV ESTAN: \",stdev(df[\"clase\"]))"
   ]
  },
  {
   "cell_type": "code",
   "execution_count": 29,
   "metadata": {},
   "outputs": [
    {
     "name": "stdout",
     "output_type": "stream",
     "text": [
      "MEDIA: varianzaimg     0.433735\n",
      "asimetriaimg    1.922353\n",
      "curtosisimg     1.397627\n",
      "entropiaimg    -1.191657\n",
      "clase           0.444606\n",
      "dtype: float64\n",
      "MODA: 0.5706\n",
      "MODA: -4.4552\n",
      "DESV. STAND: varianzaimg     2.841726\n",
      "asimetriaimg    5.866907\n",
      "curtosisimg     4.308459\n",
      "entropiaimg     2.100247\n",
      "clase           0.496922\n",
      "dtype: float64\n"
     ]
    }
   ],
   "source": [
    "#Media, moda, desvacionstardar con libreria numpy\n",
    "import numpy\n",
    "print(\"MEDIA:\", numpy.mean(df,axis=0))\n",
    "print(\"MODA:\", mode(df[\"varianzaimg\"]))\n",
    "print(\"MODA:\", mode(df[\"asimetriaimg\"]))\n",
    "print(\"DESV. STAND:\",numpy.std(df,axis=0))"
   ]
  },
  {
   "cell_type": "code",
   "execution_count": null,
   "metadata": {},
   "outputs": [],
   "source": []
  },
  {
   "cell_type": "code",
   "execution_count": null,
   "metadata": {},
   "outputs": [],
   "source": []
  },
  {
   "cell_type": "code",
   "execution_count": null,
   "metadata": {},
   "outputs": [],
   "source": []
  },
  {
   "cell_type": "code",
   "execution_count": null,
   "metadata": {},
   "outputs": [],
   "source": []
  },
  {
   "cell_type": "code",
   "execution_count": null,
   "metadata": {},
   "outputs": [],
   "source": []
  }
 ],
 "metadata": {
  "kernelspec": {
   "display_name": "Python 3",
   "language": "python",
   "name": "python3"
  },
  "language_info": {
   "codemirror_mode": {
    "name": "ipython",
    "version": 3
   },
   "file_extension": ".py",
   "mimetype": "text/x-python",
   "name": "python",
   "nbconvert_exporter": "python",
   "pygments_lexer": "ipython3",
   "version": "3.6.5"
  }
 },
 "nbformat": 4,
 "nbformat_minor": 2
}
